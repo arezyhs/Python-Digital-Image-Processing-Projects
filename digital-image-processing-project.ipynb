{
  "nbformat": 4,
  "nbformat_minor": 0,
  "metadata": {
    "colab": {
      "provenance": [],
      "authorship_tag": "ABX9TyNmgrWY7wGJgSTOuvmavmli",
      "include_colab_link": true
    },
    "kernelspec": {
      "name": "python3",
      "display_name": "Python 3"
    },
    "language_info": {
      "name": "python"
    }
  },
  "cells": [
    {
      "cell_type": "markdown",
      "metadata": {
        "id": "view-in-github",
        "colab_type": "text"
      },
      "source": [
        "<a href=\"https://colab.research.google.com/github/arezyhs/Python-Digital-Image-Processing-Projects/blob/main/digital-image-processing-project.ipynb\" target=\"_parent\"><img src=\"https://colab.research.google.com/assets/colab-badge.svg\" alt=\"Open In Colab\"/></a>"
      ]
    },
    {
      "cell_type": "code",
      "execution_count": null,
      "metadata": {
        "id": "Yb9IUoUiGJlQ"
      },
      "outputs": [],
      "source": [
        "# 23051204335 && 23051204322\n",
        "# Proses ini terdiri dari beberapa langkah berikut:\n",
        "# 1. Deteksi Batas Dokumen: Menggunakan YOLOv8 untuk mendeteksi kontur dokumen, yang berfungsi sebagai langkah pertama.\n",
        "# 2. Penciptaan Grid 2D Topologis: Menggunakan interpolasi polinomial kubik untuk mengoreksi distorsi dan menciptakan grid 2D yang meratakan dokumen.\n",
        "# 3. Perbaikan Geometri Gambar: Remapping gambar asli berdasarkan grid interpolasi untuk memperoleh bentuk yang lebih mendekati dokumen aslinya.\n",
        "# 4. Evaluasi OCR dan Pemulihan Geometri, menggunakan metrik OCR:\n",
        "#       - Levenshtein distance,\n",
        "#       - Jaro-Winkler similarity,\n",
        "#       - Character Error Rate (CER)\n",
        "#       - SSIM, MSE, dan NRMSE untuk mengukur kualitas pemulihan geometri dokumen."
      ]
    },
    {
      "cell_type": "code",
      "source": [
        "# Edge Detection"
      ],
      "metadata": {
        "id": "VBHhKSoDGjvr"
      },
      "execution_count": null,
      "outputs": []
    },
    {
      "cell_type": "code",
      "source": [
        "# Grid"
      ],
      "metadata": {
        "id": "gvuGGc5HKqKb"
      },
      "execution_count": null,
      "outputs": []
    },
    {
      "cell_type": "code",
      "source": [
        "# Geometry Fixer"
      ],
      "metadata": {
        "id": "hRBGc9diKvtX"
      },
      "execution_count": null,
      "outputs": []
    },
    {
      "cell_type": "code",
      "source": [
        "# Evaluasi OCR dan Geometry"
      ],
      "metadata": {
        "id": "Pbi1pShHKyON"
      },
      "execution_count": null,
      "outputs": []
    }
  ]
}